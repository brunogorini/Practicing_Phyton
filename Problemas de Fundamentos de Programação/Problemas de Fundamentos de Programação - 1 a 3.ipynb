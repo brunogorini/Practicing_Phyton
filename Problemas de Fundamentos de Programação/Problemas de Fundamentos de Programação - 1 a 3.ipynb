{
 "cells": [
  {
   "cell_type": "markdown",
   "metadata": {},
   "source": [
    "# Problema 1\n",
    "\n",
    "Leia números inteiros do teclado até que um número negativo seja teclado. Escreva, caso existam, quais os cinco maiores números lidos. Caso menos que cinco números sejam lidos, mostre todos os números lidos.\n",
    "\n",
    "#### Restrição\n",
    "Não é permitido manter em memória mais que seis números lidos."
   ]
  },
  {
   "cell_type": "code",
   "execution_count": 5,
   "metadata": {},
   "outputs": [
    {
     "name": "stdout",
     "output_type": "stream",
     "text": [
      "Digite um número inteiro: 18\n",
      "Digite um número inteiro: 57\n",
      "Digite um número inteiro: 86\n",
      "Digite um número inteiro: 76\n",
      "Digite um número inteiro: 53\n",
      "Digite um número inteiro: 14\n",
      "Digite um número inteiro: 5\n",
      "Digite um número inteiro: 35\n",
      "Digite um número inteiro: 38\n",
      "Digite um número inteiro: 99\n",
      "Digite um número inteiro: -1\n",
      "\n",
      "Os cinco maiores números são:\n",
      "99\n",
      "86\n",
      "76\n",
      "57\n",
      "53\n"
     ]
    }
   ],
   "source": [
    "# Subprograma\n",
    "\n",
    "\n",
    "def cinco_maiores():\n",
    "    maiores = []        # criação de uma lista vazia\n",
    "    num = int(input('Digite um número inteiro: '))      # lê o primeiro número inteiro\n",
    "    while num >= 0:         # enquanto um número negativo não é lido\n",
    "        if len(maiores) < 5:        # adiciona até o 4o número lido a lista\n",
    "            maiores.append(num)\n",
    "        else:                       # a partir do 5 número lido\n",
    "            menor = min(maiores)    # identifica o menor número dentre os 4 na lista\n",
    "            ind = maiores.index(menor)\n",
    "            if menor < num:         # se o último número lido é maior que o menor número na lista\n",
    "                del maiores[ind]    # deleta este menor número da lista\n",
    "                maiores.append(num)     # acrescenta o último número lido a lista\n",
    "        num = int(input('Digite um número inteiro: '))      # lê o próximo número\n",
    "    return maiores      # retorna os 5 maiores números lidos\n",
    "\n",
    "\n",
    "# Programa Principal\n",
    "\n",
    "lista_maiores = cinco_maiores()     # função que retorna os 5 maiores números lidos\n",
    "lista_maiores.sort(key=int, reverse=True)   # organiza os 5 maiores números em ordem decrescente\n",
    "\n",
    "print('\\n'+'Os cinco maiores números são:')\n",
    "for numeros in lista_maiores:\n",
    "    print(numeros)     # imprime cada um dos 5 maiores números\n",
    "    "
   ]
  },
  {
   "cell_type": "markdown",
   "metadata": {},
   "source": [
    "# Problema 2\n",
    "\n",
    "Leia strings do teclado até que uma string vazia seja lida. Escreva no vídeo:\n",
    "\n",
    "(A) a quantidade de vogais lidas;\n",
    "\n",
    "(B) a quantidade de dígitos lidos;\n",
    "\n",
    "(C) qual foi a string de maior comprimento lida. Caso haja empate, escreva uma delas;\n",
    "\n",
    "(D) a quantidade de strings palíndromes lidas."
   ]
  },
  {
   "cell_type": "code",
   "execution_count": 3,
   "metadata": {},
   "outputs": [
    {
     "name": "stdout",
     "output_type": "stream",
     "text": [
      "Digite uma string: planeta\n",
      "Digite uma string: Rosa\n",
      "Digite uma string: Mirim\n",
      "Digite uma string: Raposa\n",
      "Digite uma string: reler\n",
      "Digite uma string: \n",
      "\n",
      "A) a quantidade de vogais lidas: 12\n",
      "B) a quantidade de dígitos lidos: 27\n",
      "C) a string de maior comprimento lida: planeta\n",
      "D) a quantidade de strings palíndromes lidas: 2\n"
     ]
    }
   ],
   "source": [
    "# Subprogramas\n",
    "\n",
    "\n",
    "def qtd_vogais(string):\n",
    "    qtd = 0                     # define a variável quantidade de vogais igual a 0\n",
    "    lista_vogais = {'a', 'e', 'i', 'o', 'u', 'A', 'E', 'I', 'O', 'U'}   # cria uma lista de vogais\n",
    "    for letra in string:        # verifica se há vogais na string e adiciona 1 a cada vogal encontrada\n",
    "        if letra in lista_vogais:\n",
    "            qtd += 1\n",
    "    return qtd                  # retorna a quantidade de vogais da string\n",
    "\n",
    "\n",
    "def qtd_digitos(string):\n",
    "    return len(string)          # retorna a quantidade de dígitos da string\n",
    "\n",
    "\n",
    "def comp(string):\n",
    "    return len(string)          # retorna o comprimento da string\n",
    "\n",
    "\n",
    "def maior_string(lista):\n",
    "    return lista.index(max(lista))  # retorna a string de maior comprimento\n",
    "\n",
    "\n",
    "def test_palindrome(string):\n",
    "    if string != '':                    # se a string não é vazia\n",
    "        string = string.upper()\n",
    "        for ind in range(len(string)):\n",
    "            if string[ind] != string[len(string) - 1 - ind]:\n",
    "                return False            # retorna falso se não é palíndrome\n",
    "        return True                     # retorna verdadeiro se é palíndrome\n",
    "\n",
    "# Programa Principal\n",
    "\n",
    "\n",
    "texto = input('Digite uma string: ')    # lê a primeira string digitada\n",
    "sentencas = [texto]                     # cria uma lista com a string digitada\n",
    "vogais = qtd_vogais(texto)              # função que retorna a quantidade de vogais na string\n",
    "digitos = qtd_digitos(texto)            # função que retorna a quantidade de dígitos na string\n",
    "tamanhos = [comp(texto)]                # função que retorna o comprimento da string\n",
    "\n",
    "if test_palindrome(texto):              # função que testa se a string é palíndome\n",
    "    palindrome = 1\n",
    "else:\n",
    "    palindrome = 0\n",
    "\n",
    "while texto != '':                      # enquanto string não é vazia\n",
    "    texto = input('Digite uma string: ')    # lê a primeira string digitada\n",
    "    sentencas.append(texto)             # adiciona a string digitada a lista de strings\n",
    "    vogais += qtd_vogais(texto)         # adiciona a quantidade de vogais desta string\n",
    "    digitos += qtd_digitos(texto)       # adiciona a quantidade de dígitos desta string\n",
    "    tamanhos.append(comp(texto))        # adiciona o comprimento desta string a lista de comprimento de strings\n",
    "    if test_palindrome(texto):          # adiciona 1 a variável palíndrome se string é palíndrome\n",
    "        palindrome += 1\n",
    "\n",
    "print('\\n'+'A) a quantidade de vogais lidas: %d' % vogais)   # imprime a quantidade de vogais lidas\n",
    "print('B) a quantidade de dígitos lidos: %d' % digitos)  # imprime a quantidade de dígitos lidos\n",
    "print('C) a string de maior comprimento lida: %s' % sentencas[maior_string(tamanhos)])   # imprime a string de maior comprimento lida\n",
    "print('D) a quantidade de strings palíndromes lidas: %d' % palindrome)   # imprime a quantidade de strings palíndromes lidas\n"
   ]
  },
  {
   "cell_type": "markdown",
   "metadata": {},
   "source": [
    "# Problema 3\n",
    "\n",
    "Faça um programa que processe eleições com até dez candidatos. Seu programa deve permitir inicialmente que sejam definidos: a quantidade de candidatos com seus respectivos nomes. Em seguida, as eleições ficarão abertas até que alguém vote em um candidato inexistente. Seu programa deve ao final escrever o nome de cada candidato seguido pela sua quantidade de votos recebidos."
   ]
  },
  {
   "cell_type": "code",
   "execution_count": 2,
   "metadata": {},
   "outputs": [
    {
     "name": "stdout",
     "output_type": "stream",
     "text": [
      "Definição do Pleito:\n",
      "\t5\n",
      "\tGustavo\n",
      "\tFernanda\n",
      "\tPedro\n",
      "\tLuciana\n",
      "\tCarlos\n",
      "\n",
      "Votação:\n",
      "\tPedro\n",
      "\tFernanda\n",
      "\tLuciana\n",
      "\tFernanda\n",
      "\tGustavo\n",
      "\tLuciana\n",
      "\tPedro\n",
      "\tFernanda\n",
      "\t\n",
      "Gustavo com 1 voto(s)\n",
      "Fernanda com 3 voto(s)\n",
      "Pedro com 2 voto(s)\n",
      "Luciana com 2 voto(s)\n",
      "Carlos com 0 voto(s)\n"
     ]
    }
   ],
   "source": [
    "qtd_candidatos = int(input('Definição do Pleito:\\n\\t'))  # lê a quantidade de candidatos\n",
    "lista_candidatos = []       # cria uma lista de candidatos vazia\n",
    "\n",
    "for i in range(qtd_candidatos):     # lê o nome dos candidatos e adiciona a lista\n",
    "    lista_candidatos.append(input('\\t'))\n",
    "\n",
    "votacao = []                 # cria uma lista de votação vazia\n",
    "candidato = input('\\nVotação:\\n\\t')  # lê o primeiro voto (nome do candidato votado)\n",
    "votacao.append(candidato)   # adiciona o primeiro voto a lista de votação\n",
    "\n",
    "while candidato in lista_candidatos:    # enquanto não votarem num candidato inexistente\n",
    "    candidato = input('\\t')         # lê o próximo voto (nome do candidato votado)\n",
    "    votacao.append(candidato)           # adiciona o próximo voto a lista de votação\n",
    "\n",
    "for i in range(qtd_candidatos):\n",
    "    num_votos = votacao.count(lista_candidatos[i])  # conta número de votos a cada candidato na lista de votação\n",
    "    print('%s' % lista_candidatos[i], 'com', '%i' % num_votos, 'voto(s)')   # imprime a quantidade de votos recebidos por cada candidato\n"
   ]
  }
 ],
 "metadata": {
  "kernelspec": {
   "display_name": "Python 3",
   "language": "python",
   "name": "python3"
  },
  "language_info": {
   "codemirror_mode": {
    "name": "ipython",
    "version": 3
   },
   "file_extension": ".py",
   "mimetype": "text/x-python",
   "name": "python",
   "nbconvert_exporter": "python",
   "pygments_lexer": "ipython3",
   "version": "3.7.4"
  }
 },
 "nbformat": 4,
 "nbformat_minor": 2
}
