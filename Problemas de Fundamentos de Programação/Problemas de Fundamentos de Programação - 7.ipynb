{
 "cells": [
  {
   "cell_type": "markdown",
   "metadata": {},
   "source": [
    "# Problema 7\n",
    "\n",
    "A classificação de candidatos em um concurso é definida em função da média ponderada de suas notas nas cinco avaliações realizadas. Em caso de empate nas médias, os elaboradores do concurso utilizam a idade dos candidatos empatados como critério de desempate assumindo que candidatos mais velhos têm preferência sobre candidatos mais jovens. Caso o empate persista, o critério de desempate adotado é a ordem alfabética dos nomes.\n",
    "\n",
    "Você foi contratado para escrever um programa que monte e exiba a classificação final dos candidatos desse concurso seguindo o critério de ordenação definido no parágrafo anterior. Os dados são informados para seu programa via entrada padrão e seu programa deve emitir a ordem de classificação dos candidatos na saída padrão."
   ]
  },
  {
   "cell_type": "code",
   "execution_count": 1,
   "metadata": {},
   "outputs": [
    {
     "name": "stdout",
     "output_type": "stream",
     "text": [
      "Digite cinco valores em ponto flutuante (separados por espaços) representando o peso das avaliações: \n",
      "1.0 1.0 3.0 2.5 2.5\n",
      "Digite a quantidade de candidatos: 5\n",
      "Digite o nome de candidato seguido de sua idade e suas notas nas cinco avaliações: \n",
      "Ana 30 8.3 4.5 9.2 4.0 6.6\n",
      "Digite o nome de candidato seguido de sua idade e suas notas nas cinco avaliações: \n",
      "João 25 2.0 3.4 8.9 7.2 4.4\n",
      "Digite o nome de candidato seguido de sua idade e suas notas nas cinco avaliações: \n",
      "Pedro 30 7.8 5.0 9.2 6.0 4.6\n",
      "Digite o nome de candidato seguido de sua idade e suas notas nas cinco avaliações: \n",
      "Maria 28 5.0 6.0 7.0 5.0 4.0\n",
      "Digite o nome de candidato seguido de sua idade e suas notas nas cinco avaliações: \n",
      "Thiago 40 6.5 4.5 7.0 4.5 4.5\n",
      "\n",
      "Lista de classificação dos candidatos:\n",
      "1 Ana\n",
      "2 Pedro\n",
      "3 João\n",
      "4 Thiago\n",
      "5 Maria\n"
     ]
    }
   ],
   "source": [
    "# Subprogramas\n",
    "\n",
    "\n",
    "def info_cands(n):\n",
    "    lista_cands = []\n",
    "    for i in range(n):\n",
    "        candidato = input('Digite o nome de candidato seguido de sua idade e suas notas nas cinco avaliações: \\n').split(' ')\n",
    "        (candidato[1]) = int(candidato[1])\n",
    "        for j in range(2, 7):\n",
    "            (candidato[j]) = float(candidato[j])\n",
    "        lista_cands.append(candidato)\n",
    "    return lista_cands\n",
    "\n",
    "\n",
    "def med_nota_cands(lista_cands, peso):\n",
    "    lista_med_cands = []\n",
    "    for i in range(len(lista_cands)):\n",
    "        med_notas = 0\n",
    "        x = 0\n",
    "        for j in range(2, 7):\n",
    "            med_notas += lista_cands[i][j] * peso[x]\n",
    "            x += 1\n",
    "        lista_med_cands.append([lista_cands[i][0], lista_cands[i][1], med_notas])\n",
    "    return lista_med_cands\n",
    "\n",
    "\n",
    "def ord_cands(lista_med_notas):\n",
    "    for i in range(len(lista_med_notas) - 1):\n",
    "        for j in range(i + 1, len(lista_med_notas)):\n",
    "            if lista_med_notas[i][2] < lista_med_notas[j][2]:\n",
    "                temp = lista_med_notas[i]\n",
    "                lista_med_notas[i] = lista_med_notas[j]\n",
    "                lista_med_notas[j] = temp\n",
    "            elif lista_med_notas[i][2] == lista_med_notas[j][2]:\n",
    "                if lista_med_notas[i][1] < lista_med_notas[j][1]:\n",
    "                    idade = lista_med_notas[i]\n",
    "                    lista_med_notas[i] = lista_med_notas[j]\n",
    "                    lista_med_notas[j] = idade\n",
    "                elif lista_med_notas[i][1] == lista_med_notas[j][1]:\n",
    "                    if lista_med_notas[i][0][0] > lista_med_notas[j][0][0]:\n",
    "                        nome = lista_med_notas[i]\n",
    "                        lista_med_notas[i] = lista_med_notas[j]\n",
    "                        lista_med_notas[j] = nome\n",
    "    return lista_med_notas\n",
    "\n",
    "\n",
    "def mostrar_ord_cands(lista_ordenada):\n",
    "    print('\\n'+'Lista de classificação dos candidatos:')\n",
    "    for i in range(len(lista_ordenada)):\n",
    "        print(i+1, lista_ordenada[i][0])\n",
    "    return None\n",
    "\n",
    "\n",
    "# Programa Principal\n",
    "\n",
    "\n",
    "peso_avals = list(map(float, input('Digite cinco valores em ponto flutuante (separados por espaços) representando o peso das avaliações: \\n').split(' ')))\n",
    "qtd_cands = int(input('Digite a quantidade de candidatos: '))\n",
    "\n",
    "list_cands = info_cands(qtd_cands)\n",
    "list_med_notas = med_nota_cands(list_cands, peso_avals)\n",
    "\n",
    "mostrar_ord_cands(ord_cands(list_med_notas))"
   ]
  }
 ],
 "metadata": {
  "kernelspec": {
   "display_name": "Python 3",
   "language": "python",
   "name": "python3"
  },
  "language_info": {
   "codemirror_mode": {
    "name": "ipython",
    "version": 3
   },
   "file_extension": ".py",
   "mimetype": "text/x-python",
   "name": "python",
   "nbconvert_exporter": "python",
   "pygments_lexer": "ipython3",
   "version": "3.7.4"
  }
 },
 "nbformat": 4,
 "nbformat_minor": 2
}
